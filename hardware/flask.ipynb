{
 "cells": [
  {
   "cell_type": "code",
   "execution_count": null,
   "id": "2fb545ac",
   "metadata": {},
   "outputs": [
    {
     "name": "stdout",
     "output_type": "stream",
     "text": [
      " * Serving Flask app '__main__'\n",
      " * Debug mode: off\n"
     ]
    },
    {
     "name": "stderr",
     "output_type": "stream",
     "text": [
      "WARNING: This is a development server. Do not use it in a production deployment. Use a production WSGI server instead.\n",
      " * Running on all addresses (0.0.0.0)\n",
      " * Running on http://127.0.0.1:3000\n",
      " * Running on http://192.168.219.69:3000\n",
      "Press CTRL+C to quit\n"
     ]
    }
   ],
   "source": [
    "from flask import Flask, request, jsonify\n",
    "import cx_Oracle\n",
    "from datetime import datetime\n",
    "\n",
    "app = Flask(__name__)\n",
    "\n",
    "# Oracle database connection settings\n",
    "db_user = 'cgi_24IS_IoT3_p2_4'\n",
    "db_password = 'smhrd4'\n",
    "db_host = 'project-db-cgi.smhrd.com'\n",
    "db_port = '1524'\n",
    "db_sid = 'xe'\n",
    "\n",
    "# Create database connection\n",
    "dsn_tns = cx_Oracle.makedsn(db_host, db_port, sid=db_sid)\n",
    "connection = cx_Oracle.connect(user=db_user, password=db_password, dsn=dsn_tns)\n",
    "\n",
    "# Sequence for primary key generation\n",
    "SEQUENCE_NAME = 'sensor_idx_sequence'\n",
    "\n",
    "def get_next_sequence_value():\n",
    "    cursor = connection.cursor()\n",
    "    cursor.execute(f'SELECT {SEQUENCE_NAME}.nextval FROM dual')\n",
    "    result = cursor.fetchone()[0]\n",
    "    cursor.close()\n",
    "    return result\n",
    "\n",
    "@app.route('/api/data', methods=['POST'])\n",
    "def receive_data():\n",
    "    try:\n",
    "        data = request.json\n",
    "        if not data:\n",
    "            return jsonify({'error': 'No data provided'}), 400\n",
    "\n",
    "        # Get server's current date and time\n",
    "        current_datetime = datetime.now().strftime('%Y-%m-%d %H:%M:%S')\n",
    "\n",
    "        # Parse latitude and longitude directly from the request\n",
    "        latitude = data['latitude']  # Received latitude\n",
    "        longitude = data['longitude']  # Received longitude\n",
    "        smoke_loc = f\"{latitude}, {longitude}\"  # Combine latitude and longitude in \"latitude,longitude\" format\n",
    "\n",
    "        sensor_idx = get_next_sequence_value()\n",
    "        with connection.cursor() as cursor:\n",
    "            insert_query = \"\"\"\n",
    "            INSERT INTO tb_smoking_sensor (\n",
    "                SENSOR_IDX, USER_EMAIL, SMOKE_TIME, SMOKE_LOC, \n",
    "                SENSOR1_VALUE, SENSOR2_VALUE, SENSOR3_VALUE, SMOKE_DATE\n",
    "            ) VALUES (\n",
    "                :1, :2, TO_TIMESTAMP(:3, 'YYYY-MM-DD HH24:MI:SS'), :4, :5, :6, :7, TO_DATE(:9, 'YYYY-MM-DD'))\n",
    "            \"\"\"\n",
    "            cursor.execute(insert_query, (\n",
    "                sensor_idx, data['user_email'], current_datetime, smoke_loc,\n",
    "                data['sensor1_value'], data['sensor2_value'], \n",
    "                data['sensor3_value'], \n",
    "                current_datetime.split()[0]  # Use server's current date\n",
    "            ))\n",
    "            connection.commit()\n",
    "\n",
    "        return jsonify({'message': 'Data received and stored successfully'}), 200\n",
    "    except Exception as e:\n",
    "        return jsonify({'error': str(e)}), 500\n",
    "\n",
    "if __name__ == '__main__':\n",
    "    app.run(host='0.0.0.0', port=3000, debug=False)"
   ]
  }
 ],
 "metadata": {
  "kernelspec": {
   "display_name": "Python 3 (ipykernel)",
   "language": "python",
   "name": "python3"
  },
  "language_info": {
   "codemirror_mode": {
    "name": "ipython",
    "version": 3
   },
   "file_extension": ".py",
   "mimetype": "text/x-python",
   "name": "python",
   "nbconvert_exporter": "python",
   "pygments_lexer": "ipython3",
   "version": "3.11.5"
  }
 },
 "nbformat": 4,
 "nbformat_minor": 5
}
